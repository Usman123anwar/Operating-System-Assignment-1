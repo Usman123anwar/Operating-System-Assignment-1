{
  "nbformat": 4,
  "nbformat_minor": 0,
  "metadata": {
    "colab": {
      "provenance": []
    },
    "kernelspec": {
      "name": "python3",
      "display_name": "Python 3"
    },
    "language_info": {
      "name": "python"
    }
  },
  "cells": [
    {
      "cell_type": "code",
      "execution_count": null,
      "metadata": {
        "id": "tgFmZ9Sd3Y5A"
      },
      "outputs": [],
      "source": []
    },
    {
      "cell_type": "markdown",
      "source": [
        "# **Chapter 3 **\n",
        "# **Assignment 1 **\n",
        "# Roll No MTN-22-13826 **bold text**"
      ],
      "metadata": {
        "id": "eal79F_J4QfO"
      }
    },
    {
      "cell_type": "code",
      "source": [],
      "metadata": {
        "id": "S5qgY26p4y0n"
      },
      "execution_count": null,
      "outputs": []
    },
    {
      "cell_type": "markdown",
      "source": [
        "**Q3-4. Guest List: If you could invite anyone, living or deceased, to dinner, who would you invite? Make a list that includes at least three people you’d like to invite to dinner. Then use your list to print a message to each person, inviting them to dinner.**\n"
      ],
      "metadata": {
        "id": "8oItSS4h415F"
      }
    },
    {
      "cell_type": "code",
      "source": [
        "usman_guests = [\"Waleed\", \"Adnan\", \"sohaib\"]\n",
        "print(\"Hello \"+usman_guests[0]+\", \"+usman_guests[1]+\", \"+usman_guests[2]+\",  How are you! You all are invited for dinner tonight at my home.\")\n",
        "\n",
        "\n"
      ],
      "metadata": {
        "colab": {
          "base_uri": "https://localhost:8080/"
        },
        "id": "nnWF0goM5A4t",
        "outputId": "d7430274-bf3d-492c-c1c6-2facbe023f6c"
      },
      "execution_count": null,
      "outputs": [
        {
          "output_type": "stream",
          "name": "stdout",
          "text": [
            "Hello Waleed, Adnan, sohaib,  How are you! You all are invited for dinner tonight at my home.\n"
          ]
        }
      ]
    },
    {
      "cell_type": "markdown",
      "source": [
        "**Q3-5.** Changing Guest List: You just heard that one of your guests can’t make the dinner, so you need to send out a new set of invitations. \n",
        "\n",
        "You’ll have to think of else to invite.\n",
        "\n",
        "•\t Start with your program from Exercise 3-4. Add a print statement at the \n",
        "end of your program stating the name of the guest who can’t make it.\n",
        "\n",
        "•\t Modify your list, replacing the name of the guest who can’t make it with \n",
        "the name of the new person you are inviting.\n",
        "\n",
        "•\t Print a second set of invitation messages, one for each person who is still \n",
        "in your list. \n"
      ],
      "metadata": {
        "id": "JHeR3piu7K4i"
      }
    },
    {
      "cell_type": "markdown",
      "source": [],
      "metadata": {
        "id": "kqTm46D6-yR8"
      }
    },
    {
      "cell_type": "code",
      "source": [],
      "metadata": {
        "id": "tu8Z6f9b-9x7"
      },
      "execution_count": null,
      "outputs": []
    },
    {
      "cell_type": "code",
      "source": [
        "usman_guests = [\"waleed\", \"adnan\", \"sohaib\"];\n",
        "print(usman_guests[2]+\" Will not be able to join us for Dinner tonight.\")\n",
        "\n",
        "usman_guests[2] = 'Talha ';\n",
        "print(\"Hi \"+usman_guests[0]+\", You are invited for dinner tonight at my home.\")\n",
        "print(\"Hi \"+usman_guests[1]+\", You are invited for dinner tonight at my home.\")\n",
        "print(\"Hi \"+usman_guests[2]+\", You are invited for dinner to night at my home.\")"
      ],
      "metadata": {
        "colab": {
          "base_uri": "https://localhost:8080/"
        },
        "id": "K0A-RsLm8ofn",
        "outputId": "fa265d78-643c-4a6c-c180-9a9de333f4cf"
      },
      "execution_count": null,
      "outputs": [
        {
          "output_type": "stream",
          "name": "stdout",
          "text": [
            "sohaib Will not be able to join us for Dinner tonight.\n",
            "Hi waleed, You are invited for dinner tonight at my home.\n",
            "Hi adnan, You are invited for dinner tonight at my home.\n",
            "Hi Talha , You are invited for dinner to night at my home.\n"
          ]
        }
      ]
    },
    {
      "cell_type": "markdown",
      "source": [
        "**3-6.** More Guests: You just found a bigger dinner table, so now more space is \n",
        "available. Think of three more guests to invite to dinner. \n",
        "\n",
        "•Start with your program from Exercise 3-4 or Exercise 3-5.\n",
        "Add a print statement to the end of your program informing people that you found a bigger dinner table.\n",
        "\n",
        "•\t Use insert() to add one new guest to the beginning of your list.\n",
        "\n",
        "•\t Use insert() to add one new guest to the middle of your list.\n",
        "\n",
        "•\t Use append() to add one new guest to the end of your list.\n",
        "\n",
        "•\t Print a new set of invitation messages, one for each person in your list.\n",
        "\n"
      ],
      "metadata": {
        "id": "zagwx9AK_D96"
      }
    },
    {
      "cell_type": "markdown",
      "source": [],
      "metadata": {
        "id": "zRQ-UJny_GPz"
      }
    },
    {
      "cell_type": "code",
      "source": [
        "usman_guests = [\"waleed\", \"adnan\", \"sohaib\"];\n",
        "usman_guests.insert(0, \"sheraz\");\n",
        "usman_guests.insert(1, \"saif\");\n",
        "usman_guests.append(\"qasim\");\n",
        "print(\"Hello friends, come tonight to my home for dinner.\\n\")\n",
        "print(\"Hi \"+usman_guests[0]+\", you are invited.\")\n",
        "print(\"Hi \"+usman_guests[1]+\", you are invited.\")\n",
        "\n",
        "print(\"Hi \"+usman_guests[2]+\", you are invited.\")\n",
        "print(\"Hi \"+usman_guests[3]+\", you are invited.\")"
      ],
      "metadata": {
        "colab": {
          "base_uri": "https://localhost:8080/"
        },
        "id": "UO2NLPKl_Yq6",
        "outputId": "988ecc55-4d5d-4583-d69b-8be8c46fa9d4"
      },
      "execution_count": null,
      "outputs": [
        {
          "output_type": "stream",
          "name": "stdout",
          "text": [
            "Hello friends, come tonight to my home for dinner.\n",
            "\n",
            "Hi sheraz, you are invited.\n",
            "Hi saif, you are invited.\n",
            "Hi waleed, you are invited.\n",
            "Hi adnan, you are invited.\n"
          ]
        }
      ]
    },
    {
      "cell_type": "code",
      "source": [],
      "metadata": {
        "id": "kRWZqDm7An8B"
      },
      "execution_count": null,
      "outputs": []
    },
    {
      "cell_type": "markdown",
      "source": [
        "**3-7.** Shrinking Guest List: You just found out that your new dinner table won’t\n",
        "arrive in time for the dinner, and you have space for only two guests.\n",
        "\n",
        "•\t Start with your program from Exercise 3-6. Add a new line that prints a\n",
        "message saying that you can invite only two people for dinner.\n",
        "\n",
        "•\t Use pop() to remove guests from your list one at a time until only two\n",
        "names remain in your list. Each time you pop a name from your list, print\n",
        "a message to that person letting them know you’re sorry you can’t invite\n",
        "them to dinner.\n",
        "\n",
        "•\t Print a message to each of the two people still on your list, letting them\n",
        "know they’re still invited.\n",
        "\n",
        "•\t Use del to remove the last two names from your list, so you have an empty\n",
        "list. Print your list to make sure you actually have an empty list at the end\n",
        "of your program "
      ],
      "metadata": {
        "id": "RE9BB71tUaoV"
      }
    },
    {
      "cell_type": "code",
      "source": [],
      "metadata": {
        "id": "DsPpnk8OUsp2"
      },
      "execution_count": null,
      "outputs": []
    },
    {
      "cell_type": "code",
      "source": [
        "\n",
        "usman_guests = [\"waleed\", \"adnan\", \"sohaib\"];\n",
        "usman_guests.insert(0, \"Sheraz\");\n",
        "usman_guests.insert(2, \"saif\");\n",
        "usman_guests.append(\"qasim\");\n",
        "\n",
        "print(\"I am very sorry for that , you are not invited to my home because of some issue now I can invite only two people\")\n",
        "removed1 = usman_guests.pop(0)\n",
        "print(\"Hi \"+removed1+\", Sorry I can't invite you to dinner\")\n",
        "removed2 = usman_guests.pop(0)\n",
        "print(\"Hi \"+removed2+\", Sorry I can't invite you to dinner\")\n",
        "removed3 = usman_guests.pop(0)\n",
        "print(\"Hi \"+removed3+\", Sorry I can't invite you to dinner\")\n",
        "removed4 = usman_guests.pop(0)\n",
        "print(\"Hi \"+removed4+\", Sorry I can't invite you to dinner\\n\")\n",
        "print(\"Hi \"+usman_guests[0]+\", You are still invited for the Dinner\")\n",
        "print(\"Hi \"+usman_guests[1]+\", You are still invited for the Dinner\")\n",
        "\n",
        "del usman_guests[0]\n",
        "del usman_guests[0]\n",
        "     "
      ],
      "metadata": {
        "colab": {
          "base_uri": "https://localhost:8080/"
        },
        "id": "Mp4Tkcx3ZGv-",
        "outputId": "447d12a4-a1e1-4956-ab74-ffb7b84e887c"
      },
      "execution_count": null,
      "outputs": [
        {
          "output_type": "stream",
          "name": "stdout",
          "text": [
            "I am very sorry for that , you are not invited to my home because of some issue now I can invite only two people\n",
            "Hi Sheraz, Sorry I can't invite you to dinner\n",
            "Hi waleed, Sorry I can't invite you to dinner\n",
            "Hi saif, Sorry I can't invite you to dinner\n",
            "Hi adnan, Sorry I can't invite you to dinner\n",
            "\n",
            "Hi sohaib, You are still invited for the Dinner\n",
            "Hi qasim, You are still invited for the Dinner\n"
          ]
        }
      ]
    }
  ]
}