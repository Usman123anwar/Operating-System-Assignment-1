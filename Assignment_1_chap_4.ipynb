{
  "nbformat": 4,
  "nbformat_minor": 0,
  "metadata": {
    "colab": {
      "provenance": []
    },
    "kernelspec": {
      "name": "python3",
      "display_name": "Python 3"
    },
    "language_info": {
      "name": "python"
    }
  },
  "cells": [
    {
      "cell_type": "code",
      "execution_count": null,
      "metadata": {
        "id": "6jMAmny_pz91"
      },
      "outputs": [],
      "source": []
    },
    {
      "cell_type": "markdown",
      "source": [
        "# **Assignment 1**\n",
        "# **Chapter 4**\n",
        "**4-1.** Pizzas: Think of at least three kinds of your favorite pizza. Store these pizza names in a list, and then use a for loop to print the name of each pizza. Modify your for loop to print a sentence using the name of the pizza.\n",
        "\n",
        "instead of printing just the name of the pizza. For each pizza you should\n",
        "have one line of output containing a simple statement like I like pepperoni pizza.\n",
        "\n",
        "Add a line at the end of your program, outside the for loop, that states\n",
        "how much you like pizza. The output should consist of three or more lines about the kinds of pizza you like and then an additional sentence, such as I really love pizza!"
      ],
      "metadata": {
        "id": "BTaAHRiGqKsZ"
      }
    },
    {
      "cell_type": "code",
      "source": [
        "usman_anwar_pizza_list = ['Tikka pizza ', 'Cheese Pizza', 'Chicken Pizza']\n",
        "for pizza in usman_anwar_pizza_list:\n",
        "  print(\"I love \"+pizza+\" Cheese pizza is my favourite i like it.\")\n",
        "print(\"I love to eat Cheese pizza with mionise and ketchup, especially with best friends.\")\n"
      ],
      "metadata": {
        "colab": {
          "base_uri": "https://localhost:8080/"
        },
        "id": "a4bjqEj_rb2b",
        "outputId": "766c21f5-7285-4630-9ab6-5f9392cc44c9"
      },
      "execution_count": 1,
      "outputs": [
        {
          "output_type": "stream",
          "name": "stdout",
          "text": [
            "I love Tikka pizza  Cheese pizza is my favourite i like it.\n",
            "I love Cheese Pizza Cheese pizza is my favourite i like it.\n",
            "I love Chicken Pizza Cheese pizza is my favourite i like it.\n",
            "I love to eat Cheese pizza with mionise and ketchup, especially with best friends.\n"
          ]
        }
      ]
    },
    {
      "cell_type": "markdown",
      "source": [
        "**4-2.** Animals: Think of at least three different animals that have a common characteristic. Store the names of these animals in a list, and then use a for loop to print out the name of each animal.\n",
        "\n",
        "Modify your program to print a statement about each animal, such as\n",
        "A dog would make a great pet.\n",
        "\n",
        "Add a line at the end of your program stating what these animals have in\n",
        "common. You could print a sentence such as Any of these animals would make a great pet!"
      ],
      "metadata": {
        "id": "qCoBKVDjsWPh"
      }
    },
    {
      "cell_type": "code",
      "source": [
        "usman_pets_list = [\"dog\", \"cat\", \"rabbit\"]\n",
        "\n",
        "for pet in usman_pets_list:\n",
        "  print(\"A \"+pet.title()+\" would make a great pet.\")\n",
        "print(\"\\nAny of these animals would make a great pet!\")"
      ],
      "metadata": {
        "colab": {
          "base_uri": "https://localhost:8080/"
        },
        "id": "jhEHBBkvsav2",
        "outputId": "ddcc8912-6a5c-40a8-e644-9c5b72bf410d"
      },
      "execution_count": 5,
      "outputs": [
        {
          "output_type": "stream",
          "name": "stdout",
          "text": [
            "A Dog would make a great pet.\n",
            "A Cat would make a great pet.\n",
            "A Rabbit would make a great pet.\n",
            "\n",
            "Any of these animals would make a great pet!\n"
          ]
        }
      ]
    }
  ]
}